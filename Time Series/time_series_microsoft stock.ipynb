{
 "cells": [
  {
   "cell_type": "code",
   "execution_count": 91,
   "metadata": {},
   "outputs": [],
   "source": [
    "import pandas_datareader as pdr\n",
    "import pandas as pd\n",
    "from datetime import datetime \n",
    "microsoft_df = pdr.get_data_yahoo('MSFT')"
   ]
  },
  {
   "cell_type": "code",
   "execution_count": 73,
   "metadata": {},
   "outputs": [
    {
     "data": {
      "text/html": [
       "<div>\n",
       "<style scoped>\n",
       "    .dataframe tbody tr th:only-of-type {\n",
       "        vertical-align: middle;\n",
       "    }\n",
       "\n",
       "    .dataframe tbody tr th {\n",
       "        vertical-align: top;\n",
       "    }\n",
       "\n",
       "    .dataframe thead th {\n",
       "        text-align: right;\n",
       "    }\n",
       "</style>\n",
       "<table border=\"1\" class=\"dataframe\">\n",
       "  <thead>\n",
       "    <tr style=\"text-align: right;\">\n",
       "      <th></th>\n",
       "      <th>High</th>\n",
       "      <th>Low</th>\n",
       "      <th>Open</th>\n",
       "      <th>Close</th>\n",
       "      <th>Volume</th>\n",
       "      <th>Adj Close</th>\n",
       "    </tr>\n",
       "    <tr>\n",
       "      <th>Date</th>\n",
       "      <th></th>\n",
       "      <th></th>\n",
       "      <th></th>\n",
       "      <th></th>\n",
       "      <th></th>\n",
       "      <th></th>\n",
       "    </tr>\n",
       "  </thead>\n",
       "  <tbody>\n",
       "    <tr>\n",
       "      <th>2017-04-18</th>\n",
       "      <td>65.709999</td>\n",
       "      <td>65.160004</td>\n",
       "      <td>65.330002</td>\n",
       "      <td>65.389999</td>\n",
       "      <td>15155600.0</td>\n",
       "      <td>61.040585</td>\n",
       "    </tr>\n",
       "    <tr>\n",
       "      <th>2017-04-19</th>\n",
       "      <td>65.750000</td>\n",
       "      <td>64.889999</td>\n",
       "      <td>65.650002</td>\n",
       "      <td>65.040001</td>\n",
       "      <td>26992800.0</td>\n",
       "      <td>60.713856</td>\n",
       "    </tr>\n",
       "    <tr>\n",
       "      <th>2017-04-20</th>\n",
       "      <td>65.750000</td>\n",
       "      <td>65.139999</td>\n",
       "      <td>65.459999</td>\n",
       "      <td>65.500000</td>\n",
       "      <td>22299500.0</td>\n",
       "      <td>61.143257</td>\n",
       "    </tr>\n",
       "    <tr>\n",
       "      <th>2017-04-21</th>\n",
       "      <td>66.699997</td>\n",
       "      <td>65.449997</td>\n",
       "      <td>65.669998</td>\n",
       "      <td>66.400002</td>\n",
       "      <td>32522600.0</td>\n",
       "      <td>61.983402</td>\n",
       "    </tr>\n",
       "    <tr>\n",
       "      <th>2017-04-24</th>\n",
       "      <td>67.660004</td>\n",
       "      <td>67.099998</td>\n",
       "      <td>67.480003</td>\n",
       "      <td>67.529999</td>\n",
       "      <td>29770000.0</td>\n",
       "      <td>63.038212</td>\n",
       "    </tr>\n",
       "  </tbody>\n",
       "</table>\n",
       "</div>"
      ],
      "text/plain": [
       "                 High        Low       Open      Close      Volume  Adj Close\n",
       "Date                                                                         \n",
       "2017-04-18  65.709999  65.160004  65.330002  65.389999  15155600.0  61.040585\n",
       "2017-04-19  65.750000  64.889999  65.650002  65.040001  26992800.0  60.713856\n",
       "2017-04-20  65.750000  65.139999  65.459999  65.500000  22299500.0  61.143257\n",
       "2017-04-21  66.699997  65.449997  65.669998  66.400002  32522600.0  61.983402\n",
       "2017-04-24  67.660004  67.099998  67.480003  67.529999  29770000.0  63.038212"
      ]
     },
     "execution_count": 73,
     "metadata": {},
     "output_type": "execute_result"
    }
   ],
   "source": [
    "microsoft_df = microsoft_df.reset_index()\n",
    "microsoft_df=microsoft_df.set_index('Date', drop=True)\n",
    "microsoft_df.head()"
   ]
  },
  {
   "cell_type": "code",
   "execution_count": 105,
   "metadata": {},
   "outputs": [
    {
     "data": {
      "text/plain": [
       "High         1259\n",
       "Low          1259\n",
       "Open         1259\n",
       "Close        1259\n",
       "Volume       1259\n",
       "Adj Close    1259\n",
       "dtype: int64"
      ]
     },
     "execution_count": 105,
     "metadata": {},
     "output_type": "execute_result"
    }
   ],
   "source": [
    "microsoft_df.count()"
   ]
  },
  {
   "cell_type": "code",
   "execution_count": 111,
   "metadata": {},
   "outputs": [
    {
     "data": {
      "text/plain": [
       "[[Timestamp('2021-11-22 00:00:00'), 'High', 349.6700134277344],\n",
       " [Timestamp('2021-11-19 00:00:00'), 'Low', 342.20001220703125],\n",
       " [Timestamp('2021-11-22 00:00:00'), 'Open', 344.6199951171875],\n",
       " [Timestamp('2021-11-19 00:00:00'), 'Close', 343.1099853515625],\n",
       " [Timestamp('2018-12-21 00:00:00'), 'Volume', 111242100.0],\n",
       " [Timestamp('2021-11-19 00:00:00'), 'Adj Close', 342.4020080566406]]"
      ]
     },
     "execution_count": 111,
     "metadata": {},
     "output_type": "execute_result"
    }
   ],
   "source": [
    "##finding the max price of stock in each column\n",
    "\n",
    "res = []\n",
    "# go through each stock\n",
    "for stock in list(microsoft_df):\n",
    "    df_t =microsoft_df.loc[microsoft_df[stock].idxmax()]\n",
    "    value = df_t[stock]\n",
    "    index = df_t.name\n",
    "    res.append([index, stock, value])\n",
    "\n",
    "res"
   ]
  },
  {
   "cell_type": "code",
   "execution_count": 112,
   "metadata": {},
   "outputs": [
    {
     "data": {
      "text/plain": [
       "[[Timestamp('2017-04-18 00:00:00'), 'High', 65.70999908447266],\n",
       " [Timestamp('2017-04-19 00:00:00'), 'Low', 64.88999938964844],\n",
       " [Timestamp('2017-04-18 00:00:00'), 'Open', 65.33000183105469],\n",
       " [Timestamp('2017-04-19 00:00:00'), 'Close', 65.04000091552734],\n",
       " [Timestamp('2017-11-24 00:00:00'), 'Volume', 7425600.0],\n",
       " [Timestamp('2017-04-19 00:00:00'), 'Adj Close', 60.71385192871094]]"
      ]
     },
     "execution_count": 112,
     "metadata": {},
     "output_type": "execute_result"
    }
   ],
   "source": [
    "##finding the min price of stock in each column\n",
    "res = []\n",
    "# go through each stock\n",
    "for stock in list(microsoft_df):\n",
    "    df_t =microsoft_df.loc[microsoft_df[stock].idxmin()]\n",
    "    value = df_t[stock]\n",
    "    index = df_t.name\n",
    "    res.append([index, stock, value])\n",
    "\n",
    "res"
   ]
  }
 ],
 "metadata": {
  "interpreter": {
   "hash": "0de8276257368da02364785d8649fa31700cfa0c4380661563947ad6ceae55f2"
  },
  "kernelspec": {
   "display_name": "Python 3.9.7 ('base')",
   "language": "python",
   "name": "python3"
  },
  "language_info": {
   "codemirror_mode": {
    "name": "ipython",
    "version": 3
   },
   "file_extension": ".py",
   "mimetype": "text/x-python",
   "name": "python",
   "nbconvert_exporter": "python",
   "pygments_lexer": "ipython3",
   "version": "3.9.7"
  },
  "orig_nbformat": 4
 },
 "nbformat": 4,
 "nbformat_minor": 2
}
